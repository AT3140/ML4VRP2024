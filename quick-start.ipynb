{
 "cells": [
  {
   "cell_type": "markdown",
   "id": "0fdde03d",
   "metadata": {},
   "source": [
    "<div class=\"alert alert-success\">A Quick Start</div>\n",
    "\n",
    "This notebook serves as a quick tutorial on using the solution evaluator provided. It aims to prevent syntax errors during usage. Before proceeding, ensure the environment is prepared and the necessary resources are downloaded. Refer to the [README](./README.md). for detailed instructions."
   ]
  },
  {
   "cell_type": "code",
   "execution_count": null,
   "id": "5002b765",
   "metadata": {},
   "outputs": [],
   "source": [
    "# ignore this if you have installed DEAP\n",
    "!pip install deap"
   ]
  },
  {
   "cell_type": "markdown",
   "id": "a1afacab",
   "metadata": {},
   "source": [
    "Navigating to the repository directory, use the following command in the terminal or command prompt:\n",
    "```sh\n",
    "python evaluator.py <problem_type> <instance_name> <path_to_solution_file>\n",
    "```\n",
    "Replace <problem_type>, <instance_name>, and <path_to_solution_file> with appropriate values.\n",
    "- `<problem_type> `must be one of the following: `cvrp` or `cvrptw`.\n",
    "- `<instance_name>` is the name of the instance you want to evaluate.\n",
    "- `<path_to_solution_file>` is the path to the solution file you want to evaluate against."
   ]
  },
  {
   "cell_type": "markdown",
   "id": "427d07e3",
   "metadata": {},
   "source": [
    "## Evaluating of a solution for a CVRP instance\n",
    "\n",
    "In this example, we will be using the instance `X-n101-k25` from CVRP. \n",
    "\n",
    "The optimal solution for solving `X-n101-k25` are provided in `Solutions/cvrp` directory, i.e., `BKS-X-n101-k25.txt`."
   ]
  },
  {
   "cell_type": "markdown",
   "id": "4fc8fb60",
   "metadata": {},
   "source": [
    "Run the code cell below (or use the command in the terminal or command prompt)."
   ]
  },
  {
   "cell_type": "code",
   "execution_count": 1,
   "id": "03bf885c",
   "metadata": {},
   "outputs": [
    {
     "name": "stdout",
     "output_type": "stream",
     "text": [
      "Problem:  cvrp  Instance name:  X-n101-k25  Solution path:  Solutions/cvrp/BKS-X-n101-k25.txt\r\n",
      "File: /Users/weiyao/ML4VRP-GECCO2024/ML4VRP2024/Instances/cvrp/json/X-n101-k25.json exists.\r\n",
      "Number of vehicles:  26 , Total distance:  27591.0 Objective value:  53591.0\r\n"
     ]
    }
   ],
   "source": [
    "!python evaluator.py cvrp X-n101-k25 Solutions/cvrp/BKS-X-n101-k25.txt"
   ]
  },
  {
   "cell_type": "markdown",
   "id": "17d379a3",
   "metadata": {},
   "source": [
    "The output should be (similar to) as shown below:\n",
    "```sh\n",
    "Problem:  cvrp  Instance name:  X-n101-k25  Solution path:  Solutions/cvrp/BKS-X-n101-k25.txt\n",
    "File: .../Instances/cvrp/json/X-n101-k25.json exists.\n",
    "Number of vehicles:  26 , Total distance:  27591 Objective value:  53591\n",
    "```"
   ]
  },
  {
   "cell_type": "markdown",
   "id": "80a483fa",
   "metadata": {},
   "source": [
    "## Evaluating of a solution for a CVRPTW instance\n",
    "\n",
    "In this example, we will be using the instance `toy` from CVRPTW. \n",
    "\n",
    "Solutions for solving `toy` are provided in `Solutions/cvrptw` directory, including\n",
    "- A feasible solution `toy_solution.txt` (in terms of the time window and vehicle capacity constraints) and\n",
    "- An infeasible solution `toy_solution_infeasible.txt`."
   ]
  },
  {
   "cell_type": "markdown",
   "id": "c0fdd963",
   "metadata": {},
   "source": [
    "Run the code cell below (or use the command in the terminal or command prompt)."
   ]
  },
  {
   "cell_type": "code",
   "execution_count": 2,
   "id": "ab23feeb",
   "metadata": {},
   "outputs": [
    {
     "name": "stdout",
     "output_type": "stream",
     "text": [
      "Problem:  cvrptw  Instance name:  toy  Solution path:  Solutions/cvrptw/toy_solution.txt\r\n",
      "File: /Users/weiyao/ML4VRP-GECCO2024/ML4VRP2024/Instances/cvrptw/json/toy.json exists.\r\n",
      "Number of vehicles:  2 , Total distance:  153.8 Objective value:  2153.8\r\n"
     ]
    }
   ],
   "source": [
    "!python evaluator.py cvrptw toy Solutions/cvrptw/toy_solution.txt"
   ]
  },
  {
   "cell_type": "markdown",
   "id": "7b3189cf",
   "metadata": {},
   "source": [
    "The output is (similar to) as shown below:\n",
    "```sh\n",
    "Problem:  cvrptw  Instance name:  toy  Solution path:  Solutions/cvrptw/toy_solution.txt\n",
    "File: .../Instances/cvrptw/json/toy.json exists.\n",
    "Number of vehicles:  2 , Total distance:  153.82268590411263 Objective value:  2153.8226859041124\n",
    "```"
   ]
  },
  {
   "cell_type": "markdown",
   "id": "b188caf5",
   "metadata": {},
   "source": [
    "The infeasible solution cannot pass the feasibility check, thus no objective function value will be returned. "
   ]
  },
  {
   "cell_type": "code",
   "execution_count": 3,
   "id": "eff6cac7",
   "metadata": {},
   "outputs": [
    {
     "name": "stdout",
     "output_type": "stream",
     "text": [
      "Problem:  cvrptw  Instance name:  toy  Solution path:  Solutions/cvrptw/toy_solution_infeasible.txt\r\n",
      "File: /Users/weiyao/ML4VRP-GECCO2024/ML4VRP2024/Instances/cvrptw/json/toy.json exists.\r\n",
      "invalid capacity\r\n",
      "invalid time window: too late to serve customer  6\r\n",
      "The solution in infeasible!\r\n"
     ]
    }
   ],
   "source": [
    "!python evaluator.py cvrptw toy Solutions/cvrptw/toy_solution_infeasible.txt"
   ]
  },
  {
   "cell_type": "markdown",
   "id": "2dcb37c1",
   "metadata": {},
   "source": [
    "The output is (similar to) as shown below:\n",
    "```sh\n",
    "Problem:  cvrptw  Instance name:  toy  Solution path:  Solutions/cvrptw/toy_solution_infeasible.txt\n",
    "File: .../Instances/cvrptw/json/toy.json exists.\n",
    "invalid capacity\n",
    "invalid time window: too late to serve customer  6\n",
    "The solution in infeasible!\n",
    "```"
   ]
  }
 ],
 "metadata": {
  "kernelspec": {
   "display_name": "Python 3 (ipykernel)",
   "language": "python",
   "name": "python3"
  },
  "language_info": {
   "codemirror_mode": {
    "name": "ipython",
    "version": 3
   },
   "file_extension": ".py",
   "mimetype": "text/x-python",
   "name": "python",
   "nbconvert_exporter": "python",
   "pygments_lexer": "ipython3",
   "version": "3.9.7"
  },
  "toc": {
   "base_numbering": 1,
   "nav_menu": {},
   "number_sections": true,
   "sideBar": true,
   "skip_h1_title": false,
   "title_cell": "Table of Contents",
   "title_sidebar": "Contents",
   "toc_cell": false,
   "toc_position": {},
   "toc_section_display": true,
   "toc_window_display": false
  }
 },
 "nbformat": 4,
 "nbformat_minor": 5
}
